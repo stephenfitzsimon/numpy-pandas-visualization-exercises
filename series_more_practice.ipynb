{
 "cells": [
  {
   "cell_type": "markdown",
   "id": "6a2f5b96",
   "metadata": {},
   "source": [
    "more practice with series objects\n",
    "\n",
    "do the following <a href=\"https://gist.github.com/ryanorsinger/f7d7c1dd6a328730c04f3dc5c5c69f3\" >link </a> using a series object in pandas. list comprehension interpreted as a series object"
   ]
  },
  {
   "cell_type": "code",
   "execution_count": 4,
   "id": "59f17dc8",
   "metadata": {},
   "outputs": [],
   "source": [
    "import pandas as pd\n",
    "\n",
    "# lists to use\n",
    "fruits = ['mango', 'kiwi', 'strawberry', 'guava', 'pineapple', 'mandarin orange']\n",
    "\n",
    "numbers = [2, 3, 4, 5, 6, 7, 8, 9, 10, 11, 13, 17, 19, 23, 256, -8, -4, -2, 5, -9]\n",
    "\n",
    "# cast to a series object\n",
    "\n",
    "fruits_series = pd.Series(fruits)\n",
    "numbers_series = pd.Series(numbers)"
   ]
  },
  {
   "cell_type": "code",
   "execution_count": 5,
   "id": "49e75593",
   "metadata": {},
   "outputs": [
    {
     "data": {
      "text/plain": [
       "0              MANGO\n",
       "1               KIWI\n",
       "2         STRAWBERRY\n",
       "3              GUAVA\n",
       "4          PINEAPPLE\n",
       "5    MANDARIN ORANGE\n",
       "dtype: object"
      ]
     },
     "execution_count": 5,
     "metadata": {},
     "output_type": "execute_result"
    }
   ],
   "source": [
    "# Exercise 1 - rewrite the above example code using list comprehension syntax. Make a \n",
    "# variable named uppercased_fruits to hold the output of the list comprehension. Output \n",
    "# should be ['MANGO', 'KIWI', etc...]\n",
    "\n",
    "fruits_series.str.upper()"
   ]
  },
  {
   "cell_type": "code",
   "execution_count": 6,
   "id": "ffc9c845",
   "metadata": {},
   "outputs": [
    {
     "data": {
      "text/plain": [
       "0              Mango\n",
       "1               Kiwi\n",
       "2         Strawberry\n",
       "3              Guava\n",
       "4          Pineapple\n",
       "5    Mandarin Orange\n",
       "dtype: object"
      ]
     },
     "execution_count": 6,
     "metadata": {},
     "output_type": "execute_result"
    }
   ],
   "source": [
    "# Exercise 2 - create a variable named capitalized_fruits and use list comprehension syntax\n",
    "# to produce output like ['Mango', 'Kiwi', 'Strawberry', etc...]\n",
    "\n",
    "fruits_series.str.title()"
   ]
  },
  {
   "cell_type": "code",
   "execution_count": 20,
   "id": "fcdb8334",
   "metadata": {},
   "outputs": [
    {
     "data": {
      "text/plain": [
       "3              guava\n",
       "4          pineapple\n",
       "5    mandarin orange\n",
       "dtype: object"
      ]
     },
     "execution_count": 20,
     "metadata": {},
     "output_type": "execute_result"
    }
   ],
   "source": [
    "# Exercise 3 - Use a list comprehension to make a variable named fruits_with_more_than_two_vowels.\n",
    "# Hint: You'll need a way to check if something is a vowel.\n",
    "\n",
    "#write a function to use for the boolean filter\n",
    "vowel_counter = lambda s: len([c for c in s if c in ('a', 'e', 'i', 'o', 'u')])\n",
    "\n",
    "#make the boolean filter\n",
    "vowel_filter = fruits_series.apply(vowel_counter) > 2\n",
    "\n",
    "#apply filter to the series\n",
    "fruits_series[fruits_series.apply(vowel_counter) > 2]"
   ]
  },
  {
   "cell_type": "code",
   "execution_count": 21,
   "id": "0313aff7",
   "metadata": {},
   "outputs": [
    {
     "data": {
      "text/plain": [
       "0         mango\n",
       "1          kiwi\n",
       "2    strawberry\n",
       "dtype: object"
      ]
     },
     "execution_count": 21,
     "metadata": {},
     "output_type": "execute_result"
    }
   ],
   "source": [
    "# Exercise 4 - make a variable named fruits_with_only_two_vowels. The result should be ['mango', \n",
    "# 'kiwi', 'strawberry']\n",
    "\n",
    "#use the vowel_counter function filter\n",
    "#make the boolean filter\n",
    "vowel_filter = fruits_series.apply(vowel_counter) == 2\n",
    "\n",
    "#apply filter to the series\n",
    "fruits_series[fruits_series.apply(vowel_counter) == 2]"
   ]
  },
  {
   "cell_type": "code",
   "execution_count": 25,
   "id": "835aeb41",
   "metadata": {},
   "outputs": [
    {
     "data": {
      "text/plain": [
       "2         strawberry\n",
       "4          pineapple\n",
       "5    mandarin orange\n",
       "dtype: object"
      ]
     },
     "execution_count": 25,
     "metadata": {},
     "output_type": "execute_result"
    }
   ],
   "source": [
    "# Exercise 5 - make a list that contains each fruit with more than 5 characters\n",
    "\n",
    "# make a boolean filter\n",
    "char_filter = fruits_series.apply(len) > 5\n",
    "\n",
    "#apply the filter\n",
    "fruits_series[fruits_series.apply(len) > 5]"
   ]
  },
  {
   "cell_type": "code",
   "execution_count": 26,
   "id": "67d3c5ca",
   "metadata": {},
   "outputs": [
    {
     "data": {
      "text/plain": [
       "0    mango\n",
       "3    guava\n",
       "dtype: object"
      ]
     },
     "execution_count": 26,
     "metadata": {},
     "output_type": "execute_result"
    }
   ],
   "source": [
    "# Exercise 6 - make a list that contains each fruit with exactly 5 characters\n",
    "\n",
    "#use technique in 5\n",
    "fruits_series[fruits_series.apply(len) == 5]"
   ]
  },
  {
   "cell_type": "code",
   "execution_count": 27,
   "id": "e6b5bc88",
   "metadata": {},
   "outputs": [
    {
     "data": {
      "text/plain": [
       "1    kiwi\n",
       "dtype: object"
      ]
     },
     "execution_count": 27,
     "metadata": {},
     "output_type": "execute_result"
    }
   ],
   "source": [
    "# Exercise 7 - Make a list that contains fruits that have less than 5 characters\n",
    "\n",
    "#use technique in 5\n",
    "fruits_series[fruits_series.apply(len) < 5]"
   ]
  },
  {
   "cell_type": "code",
   "execution_count": 28,
   "id": "6c66c897",
   "metadata": {},
   "outputs": [
    {
     "data": {
      "text/plain": [
       "0     5\n",
       "1     4\n",
       "2    10\n",
       "3     5\n",
       "4     9\n",
       "5    15\n",
       "dtype: int64"
      ]
     },
     "execution_count": 28,
     "metadata": {},
     "output_type": "execute_result"
    }
   ],
   "source": [
    "# Exercise 8 - Make a list containing the number of characters in each fruit. Output would be [5, 4, 10, etc... ]\n",
    "\n",
    "#apply the len function\n",
    "fruits_series.apply(len)"
   ]
  },
  {
   "cell_type": "code",
   "execution_count": 29,
   "id": "8f311535",
   "metadata": {},
   "outputs": [
    {
     "data": {
      "text/plain": [
       "0              mango\n",
       "2         strawberry\n",
       "3              guava\n",
       "4          pineapple\n",
       "5    mandarin orange\n",
       "dtype: object"
      ]
     },
     "execution_count": 29,
     "metadata": {},
     "output_type": "execute_result"
    }
   ],
   "source": [
    "# Exercise 9 - Make a variable named fruits_with_letter_a that contains a list of only the fruits that contain the letter \"a\"\n",
    "\n",
    "fruits_series[fruits_series.str.contains('a')]"
   ]
  },
  {
   "cell_type": "code",
   "execution_count": 32,
   "id": "56a55354",
   "metadata": {},
   "outputs": [
    {
     "data": {
      "text/plain": [
       "0       2\n",
       "2       4\n",
       "4       6\n",
       "6       8\n",
       "8      10\n",
       "14    256\n",
       "15     -8\n",
       "16     -4\n",
       "17     -2\n",
       "dtype: int64"
      ]
     },
     "execution_count": 32,
     "metadata": {},
     "output_type": "execute_result"
    }
   ],
   "source": [
    "# Exercise 10 - Make a variable named even_numbers that holds only the even numbers \n",
    "\n",
    "numbers_series[numbers_series%2==0]"
   ]
  },
  {
   "cell_type": "code",
   "execution_count": 33,
   "id": "f8b6d2b7",
   "metadata": {},
   "outputs": [
    {
     "data": {
      "text/plain": [
       "1      3\n",
       "3      5\n",
       "5      7\n",
       "7      9\n",
       "9     11\n",
       "10    13\n",
       "11    17\n",
       "12    19\n",
       "13    23\n",
       "18     5\n",
       "19    -9\n",
       "dtype: int64"
      ]
     },
     "execution_count": 33,
     "metadata": {},
     "output_type": "execute_result"
    }
   ],
   "source": [
    "# Exercise 11 - Make a variable named odd_numbers that holds only the odd numbers\n",
    "\n",
    "numbers_series[numbers_series%2!=0]"
   ]
  },
  {
   "cell_type": "code",
   "execution_count": 34,
   "id": "ceaeadd5",
   "metadata": {},
   "outputs": [
    {
     "data": {
      "text/plain": [
       "0       2\n",
       "1       3\n",
       "2       4\n",
       "3       5\n",
       "4       6\n",
       "5       7\n",
       "6       8\n",
       "7       9\n",
       "8      10\n",
       "9      11\n",
       "10     13\n",
       "11     17\n",
       "12     19\n",
       "13     23\n",
       "14    256\n",
       "18      5\n",
       "dtype: int64"
      ]
     },
     "execution_count": 34,
     "metadata": {},
     "output_type": "execute_result"
    }
   ],
   "source": [
    "# Exercise 12 - Make a variable named positive_numbers that holds only the positive numbers\n",
    "\n",
    "numbers_series[numbers_series>0]"
   ]
  },
  {
   "cell_type": "code",
   "execution_count": 35,
   "id": "0d8ef9e3",
   "metadata": {},
   "outputs": [
    {
     "data": {
      "text/plain": [
       "15   -8\n",
       "16   -4\n",
       "17   -2\n",
       "19   -9\n",
       "dtype: int64"
      ]
     },
     "execution_count": 35,
     "metadata": {},
     "output_type": "execute_result"
    }
   ],
   "source": [
    "# Exercise 13 - Make a variable named negative_numbers that holds only the negative numbers\n",
    "\n",
    "numbers_series[numbers_series<0]"
   ]
  },
  {
   "cell_type": "code",
   "execution_count": 39,
   "id": "82b08e71",
   "metadata": {},
   "outputs": [
    {
     "data": {
      "text/plain": [
       "8      10\n",
       "9      11\n",
       "10     13\n",
       "11     17\n",
       "12     19\n",
       "13     23\n",
       "14    256\n",
       "dtype: int64"
      ]
     },
     "execution_count": 39,
     "metadata": {},
     "output_type": "execute_result"
    }
   ],
   "source": [
    "# Exercise 14 - use a list comprehension w/ a conditional in order to produce a list of\n",
    "# numbers with 2 or more numerals\n",
    "digit_len = lambda n: len(str(abs(n)))\n",
    "\n",
    "numbers_series[numbers_series.apply(digit_len) >= 2]"
   ]
  },
  {
   "cell_type": "code",
   "execution_count": 40,
   "id": "55c9de39",
   "metadata": {},
   "outputs": [
    {
     "data": {
      "text/plain": [
       "0         4\n",
       "1         9\n",
       "2        16\n",
       "3        25\n",
       "4        36\n",
       "5        49\n",
       "6        64\n",
       "7        81\n",
       "8       100\n",
       "9       121\n",
       "10      169\n",
       "11      289\n",
       "12      361\n",
       "13      529\n",
       "14    65536\n",
       "15       64\n",
       "16       16\n",
       "17        4\n",
       "18       25\n",
       "19       81\n",
       "dtype: int64"
      ]
     },
     "execution_count": 40,
     "metadata": {},
     "output_type": "execute_result"
    }
   ],
   "source": [
    "# Exercise 15 - Make a variable named numbers_squared that contains the numbers list with each element squared. Output is [4, 9, 16, etc...]\n",
    "\n",
    "numbers_series**2"
   ]
  },
  {
   "cell_type": "code",
   "execution_count": 43,
   "id": "62b0b5ca",
   "metadata": {},
   "outputs": [
    {
     "data": {
      "text/plain": [
       "19   -9\n",
       "dtype: int64"
      ]
     },
     "execution_count": 43,
     "metadata": {},
     "output_type": "execute_result"
    }
   ],
   "source": [
    "# Exercise 16 - Make a variable named odd_negative_numbers that contains only the numbers that are both odd and negative.\n",
    "\n",
    "numbers_series[(numbers_series < 0) & (numbers_series%2!=0)]"
   ]
  },
  {
   "cell_type": "code",
   "execution_count": 44,
   "id": "1ed2b073",
   "metadata": {},
   "outputs": [
    {
     "data": {
      "text/plain": [
       "0       7\n",
       "1       8\n",
       "2       9\n",
       "3      10\n",
       "4      11\n",
       "5      12\n",
       "6      13\n",
       "7      14\n",
       "8      15\n",
       "9      16\n",
       "10     18\n",
       "11     22\n",
       "12     24\n",
       "13     28\n",
       "14    261\n",
       "15     -3\n",
       "16      1\n",
       "17      3\n",
       "18     10\n",
       "19     -4\n",
       "dtype: int64"
      ]
     },
     "execution_count": 44,
     "metadata": {},
     "output_type": "execute_result"
    }
   ],
   "source": [
    "# Exercise 17 - Make a variable named numbers_plus_5. In it, return a list containing each number plus five. \n",
    "\n",
    "numbers_series+5"
   ]
  },
  {
   "cell_type": "code",
   "execution_count": 45,
   "id": "06e89089",
   "metadata": {},
   "outputs": [
    {
     "data": {
      "text/plain": [
       "0      2\n",
       "1      3\n",
       "3      5\n",
       "5      7\n",
       "9     11\n",
       "10    13\n",
       "11    17\n",
       "12    19\n",
       "13    23\n",
       "18     5\n",
       "dtype: int64"
      ]
     },
     "execution_count": 45,
     "metadata": {},
     "output_type": "execute_result"
    }
   ],
   "source": [
    "# BONUS Make a variable named \"primes\" that is a list containing the prime numbers in the numbers list. \n",
    "# *Hint* you may want to make or find a helper function that determines if a given number is prime or not.\n",
    "\n",
    "#use the function written for the list comprehension exercise\n",
    "def is_prime(n):\n",
    "    #returns true if n is prime\n",
    "    if n<=1:\n",
    "        return False\n",
    "    else:\n",
    "        for i in range(2, int(n**(0.5))+1):\n",
    "            if n%i==0:\n",
    "                return False\n",
    "        return True\n",
    "numbers_series[numbers_series.apply(is_prime)]"
   ]
  },
  {
   "cell_type": "code",
   "execution_count": null,
   "id": "8c8c72be",
   "metadata": {},
   "outputs": [],
   "source": []
  }
 ],
 "metadata": {
  "kernelspec": {
   "display_name": "Python 3 (ipykernel)",
   "language": "python",
   "name": "python3"
  },
  "language_info": {
   "codemirror_mode": {
    "name": "ipython",
    "version": 3
   },
   "file_extension": ".py",
   "mimetype": "text/x-python",
   "name": "python",
   "nbconvert_exporter": "python",
   "pygments_lexer": "ipython3",
   "version": "3.9.7"
  }
 },
 "nbformat": 4,
 "nbformat_minor": 5
}
